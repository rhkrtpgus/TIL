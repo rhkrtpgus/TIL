{
  "cells": [
    {
      "cell_type": "markdown",
      "metadata": {
        "id": "view-in-github",
        "colab_type": "text"
      },
      "source": [
        "<a href=\"https://colab.research.google.com/github/rhkrtpgus/TIL/blob/main/2023_01_27ddareungi.ipynb\" target=\"_parent\"><img src=\"https://colab.research.google.com/assets/colab-badge.svg\" alt=\"Open In Colab\"/></a>"
      ]
    },
    {
      "cell_type": "markdown",
      "metadata": {
        "id": "2x9gcAV_XF6L"
      },
      "source": [
        "## 1. 라이브러리 로딩"
      ]
    },
    {
      "cell_type": "code",
      "execution_count": null,
      "metadata": {
        "id": "CUck9VNZZjwU"
      },
      "outputs": [],
      "source": [
        "pip install scikit-learn"
      ]
    },
    {
      "cell_type": "code",
      "execution_count": null,
      "metadata": {
        "id": "-LcgJkg2KASs"
      },
      "outputs": [],
      "source": [
        "pip install pandas"
      ]
    },
    {
      "cell_type": "code",
      "execution_count": null,
      "metadata": {
        "id": "h7o5_4ViKKkc"
      },
      "outputs": [],
      "source": [
        "import pandas as pd\n",
        "import warnings\n",
        "import matplotlib.pyplot as plt\n",
        "import numpy as np\n",
        "from scipy import stats\n",
        "import seaborn as sns"
      ]
    },
    {
      "cell_type": "code",
      "execution_count": null,
      "metadata": {
        "id": "CTvjmPepbNn3"
      },
      "outputs": [],
      "source": [
        "from sklearn.ensemble import RandomForestClassifier"
      ]
    },
    {
      "cell_type": "markdown",
      "metadata": {
        "id": "OblhUVu4XQ46"
      },
      "source": [
        "## 2.데이터 로딩 밑 확인"
      ]
    },
    {
      "cell_type": "code",
      "execution_count": null,
      "metadata": {
        "id": "mx6N2eE2d2n6"
      },
      "outputs": [],
      "source": [
        "from google.colab import drive\n",
        "\n",
        "drive.mount('/content/drive')"
      ]
    },
    {
      "cell_type": "code",
      "execution_count": null,
      "metadata": {
        "id": "igovZ_Iye2bM"
      },
      "outputs": [],
      "source": [
        "train = pd.read_csv('/content/drive/MyDrive/All-in/train.csv')\n",
        "test = pd.read_csv('/content/drive/MyDrive/All-in/test.csv') \n",
        "submission = pd.read_csv('/content/drive/MyDrive/All-in/submission.csv')"
      ]
    },
    {
      "cell_type": "markdown",
      "metadata": {
        "id": "RlKxlXbHLXUf"
      },
      "source": [
        "* id: 고유 id\n",
        "* hour: 시간\n",
        "* temperature: 기온\n",
        "* precipitation: 비가 오지 않았으면 0, 비가 오면 1\n",
        "* windspeed: 풍속(평균)\n",
        "* humidity: 습도\n",
        "* visibility: 시정(視程), 시계(視界)(특정 기상 상태에 따른 가시성을 의미)\n",
        "* ozone: 오존\n",
        "* pm10: 미세먼지(머리카락 굵기의 1/5에서 1/7 크기의 미세먼지)\n",
        "* pm2.5: 미세먼지(머리카락 굵기의 1/20에서 1/30 크기의 미세먼지)\n",
        "*count: 시간에 따른 따릉이 대여 수\n"
      ]
    },
    {
      "cell_type": "code",
      "execution_count": null,
      "metadata": {
        "id": "ETwwn2-ifI6U"
      },
      "outputs": [],
      "source": [
        "test.head()"
      ]
    },
    {
      "cell_type": "code",
      "execution_count": null,
      "metadata": {
        "id": "2k8bLChzXUqs"
      },
      "outputs": [],
      "source": [
        "train.info()"
      ]
    },
    {
      "cell_type": "code",
      "execution_count": null,
      "metadata": {
        "id": "OsH_OIpVhj_F"
      },
      "outputs": [],
      "source": [
        "print(train.columns.values)"
      ]
    },
    {
      "cell_type": "code",
      "source": [
        "corrmat = train.corr(method='spearman')\n",
        "indexes = corrmat.nlargest(n=11, columns='count').index\n",
        "corrmat = train[indexes].corr(method='spearman')\n",
        "fig, ax = plt.subplots()\n",
        "fig.set_size_inches(15,15)\n",
        "sns.heatmap(corrmat,annot=True, square=True, cmap ='Reds')"
      ],
      "metadata": {
        "id": "MfA808qSr5QA"
      },
      "execution_count": null,
      "outputs": []
    },
    {
      "cell_type": "markdown",
      "source": [
        "### 상관관계\n",
        ": 두 변수 중에서 한 변수의 변화가 다른 변수의 변화에 따라 어떤 변화가 일어나는지를 보여주는 지표입니다.\n",
        "\n",
        "> 상관계수는 -1.00에서 +1.00 사이의 값을 가집니다\n",
        "> 양의 상관관계일 경우에는 (+)값이 나타나고, 음의 상관관계일 경우에는(-) 값이 나타납니다. 양의 상관관계는 한 변수가 증가함에 따라 다른 변수도 증가하는 경우를 말하며, 음의 상관관계는 한 변수가 증가함에 따라 다른 변수는 감소하는 경우를 말합니다\n",
        "\n",
        ">* +- 0.9 이상일때 : 상관관계가 아주 높다\n",
        ">* +- 0.7~0.9일때: 상관관계가 있다\n",
        ">* +- 0.4~0.7 이상일때 : 상관관계가 있다\n",
        ">* +- 0.2~0.4 이상일때 : 상관관계가 있으나 매우 낮다\n",
        ">* +- 0.2 미만일때 : 상관관계가 거의 없다"
      ],
      "metadata": {
        "id": "E_-mTVHVqKdJ"
      }
    },
    {
      "cell_type": "markdown",
      "source": [
        "### 상관관계가 있는 변수\n",
        "> 결국 사람들이 변수에 따라 따릉이를 얼마나 이용하는가를 예측하기 때문에 count 변수가 중요하게 작용할거라고 생각했다.\n",
        "> count 변수와 관련이 높은 변수는 hour, hour_bef_temperature, hour_bef_windspread, hour_bef_ozone, hour_bef_humidity 정도였다.\n",
        "> 그 외에도 관심을 줄만한 정도의 상관관계가 나온 두 변수에는\n",
        ">* hour_bef_pm10, hour_bef_2.5 사이의 상관관계 => hour_bef_visivility와 상관관계를 나타낸다\n",
        ">* hour_bef_windspread, hour_bef_ozone 사이의 상관관계\n",
        ">* hour_bef_precipitation, hour_bef_ozone사이의 상관관계\n",
        "> 등등이 있지만 따릉이 사용량을 예측하는데 유의미한 결과가 있을것같지 않았다\n",
        "\n"
      ],
      "metadata": {
        "id": "tCBvQkQ5CITB"
      }
    },
    {
      "cell_type": "markdown",
      "metadata": {
        "id": "IjLzlx7afi-L"
      },
      "source": [
        "##결측치 확인 밑 처리"
      ]
    },
    {
      "cell_type": "code",
      "execution_count": null,
      "metadata": {
        "id": "r8E9QcSbe9L6"
      },
      "outputs": [],
      "source": [
        "# null값 처리하기\n",
        "train.isnull().sum()"
      ]
    },
    {
      "cell_type": "code",
      "execution_count": null,
      "metadata": {
        "id": "EUpTWwmsfk5t"
      },
      "outputs": [],
      "source": [
        "test.isnull().sum()"
      ]
    },
    {
      "cell_type": "markdown",
      "source": [
        "> hour, hour_bef_temperature, hour_bef_windspread, hour_bef_ozone, hour_bef_humidity, count 정도가 사용하려고 하는 변수인데, test세트와 train세트에 결측치가 있는 것을 확인할 수있었다. \n",
        "\n",
        "> 우선, 시간에는 결측치가 없다. 기온에는 평균을, precipitation에는 모두 0을 넣어주도록 하겠다. 풍속은 최빈값을 사용할 예정이다. 마지막으로 오존인데, 오존은 너무 많은 결측치가 있어 유의미한 변수로 써야할지 고민을 좀 해봐야할 것 같다."
      ],
      "metadata": {
        "id": "RDA4lHqWFxYm"
      }
    },
    {
      "cell_type": "code",
      "execution_count": null,
      "metadata": {
        "id": "UaCQarWlf6oi"
      },
      "outputs": [],
      "source": [
        "#train.fillna(0,inplace = True)\n",
        "#test.fillna(0,inplace = True)\n",
        "\n",
        "# 수정 전 코드: 모든 결측치를 0으로 처리해서 나중에 모델들을 구축해보았을때나, 시각화를 위해 그래프를 그렸을때 제대로 된 결과값이 나오지 않는 것을 확인할 수 있었다."
      ]
    },
    {
      "cell_type": "code",
      "source": [
        "# 기온에 평균넣기\n",
        "train['hour_bef_temperature'] = train['hour_bef_temperature'].fillna(value = train['hour_bef_temperature'].mean())"
      ],
      "metadata": {
        "id": "MVoxWfYoHq5J"
      },
      "execution_count": null,
      "outputs": []
    },
    {
      "cell_type": "code",
      "execution_count": null,
      "metadata": {
        "id": "30H0pFSlv_KN"
      },
      "outputs": [],
      "source": [
        "train.isnull().sum() # 기온의 결측치가 0이 된것을 확인 할 수 있다 "
      ]
    },
    {
      "cell_type": "code",
      "source": [
        "# 비가 오면 1, 아니면 0 의 결측치 전부 0 넣어주기\n",
        "train['hour_bef_precipitation'] = train['hour_bef_precipitation'].fillna(0)"
      ],
      "metadata": {
        "id": "Zv3J5N6vJe94"
      },
      "execution_count": null,
      "outputs": []
    },
    {
      "cell_type": "code",
      "source": [
        "train.isnull().sum() "
      ],
      "metadata": {
        "id": "CNKpPsdzJyoj"
      },
      "execution_count": null,
      "outputs": []
    },
    {
      "cell_type": "code",
      "source": [
        "# 풍속에 최빈값 넣기\n",
        "print(stats.mode('hour_bef_windspeed'))"
      ],
      "metadata": {
        "id": "7YKD7nBNAk1a"
      },
      "execution_count": null,
      "outputs": []
    },
    {
      "cell_type": "code",
      "source": [
        "print(\"최빈값:\", train['hour_bef_windspeed'].mode()[0])"
      ],
      "metadata": {
        "id": "mtraVdRyDFyA"
      },
      "execution_count": null,
      "outputs": []
    },
    {
      "cell_type": "code",
      "source": [
        "train['hour_bef_windspeed'] = train['hour_bef_windspeed'].fillna(2)"
      ],
      "metadata": {
        "id": "LhGCyFrrHgwJ"
      },
      "execution_count": null,
      "outputs": []
    },
    {
      "cell_type": "code",
      "source": [
        "train.isnull().sum() "
      ],
      "metadata": {
        "id": "CFDb_i25H6IZ"
      },
      "execution_count": null,
      "outputs": []
    },
    {
      "cell_type": "code",
      "source": [
        "# 습도 평균과 최빈값보기\n",
        "print(\"최빈값:\", train['hour_bef_humidity'].mode()[0])\n",
        "\n",
        "print(\"평균값:\", train['hour_bef_humidity'].mean())"
      ],
      "metadata": {
        "id": "LWj7hEVFKsZj"
      },
      "execution_count": null,
      "outputs": []
    },
    {
      "cell_type": "markdown",
      "source": [
        "최빈값과 평균 둘 중 어느것을 넣어야할지 고민하다가 둘다 넣어보았는데.. 생각 보다 차이가 컸다. 그럼 최빈값은 전체 CSV 셀 중 몇개를 차지해서 최빈값이 되었는지가 궁금해져 찾아보았다."
      ],
      "metadata": {
        "id": "XwDUvshqOcVX"
      }
    },
    {
      "cell_type": "code",
      "source": [
        "#from collections import Counter\n",
        "\n",
        "#Counter(train['F'])\n",
        "#Counter(train['F'])['44']"
      ],
      "metadata": {
        "id": "ULMQQyOlQGfb"
      },
      "execution_count": null,
      "outputs": []
    },
    {
      "cell_type": "code",
      "source": [
        "train.count()"
      ],
      "metadata": {
        "id": "J2uCmreJTHJd"
      },
      "execution_count": null,
      "outputs": []
    },
    {
      "cell_type": "code",
      "source": [
        "train['hour_bef_humidity'].count()"
      ],
      "metadata": {
        "id": "keqdvlVHTYZW"
      },
      "execution_count": null,
      "outputs": []
    },
    {
      "cell_type": "code",
      "source": [
        "h= train['hour_bef_humidity'].value_counts()\n",
        "print(h)"
      ],
      "metadata": {
        "id": "sb6xX_pGTqt6"
      },
      "execution_count": null,
      "outputs": []
    },
    {
      "cell_type": "code",
      "source": [
        "np.set_printoptions(threshold=np.inf, linewidth=np.inf) # 저 ... 없애고 싶었다"
      ],
      "metadata": {
        "id": "9ya4-upyUbZP"
      },
      "execution_count": null,
      "outputs": []
    },
    {
      "cell_type": "code",
      "source": [
        "h= train['hour_bef_humidity'].value_counts()\n",
        "print(h) # 안사라진다"
      ],
      "metadata": {
        "id": "b1NAg7FfVKWO"
      },
      "execution_count": null,
      "outputs": []
    },
    {
      "cell_type": "code",
      "source": [
        "pd.set_option('display.max_rows',10000) # 보이는 max row의 값을 10000으로 설정"
      ],
      "metadata": {
        "id": "C9InMuOaVnHJ"
      },
      "execution_count": null,
      "outputs": []
    },
    {
      "cell_type": "code",
      "source": [
        "h= train['hour_bef_humidity'].value_counts()\n",
        "print(h) # 야호"
      ],
      "metadata": {
        "id": "VnGBgWxAWMKx"
      },
      "execution_count": null,
      "outputs": []
    },
    {
      "cell_type": "code",
      "source": [
        "# 8번 이하로 나온 수들은 모두 없애고 최빈값으로 대체 후 평균 구하기\n",
        "\n",
        "df= pd.DataFrame(h)"
      ],
      "metadata": {
        "id": "Ee2QnxnWWUPV"
      },
      "execution_count": null,
      "outputs": []
    },
    {
      "cell_type": "code",
      "source": [
        "# 16 바꾸기\n",
        "df.loc[157,'F']=44\n",
        "df.loc[444,'F']=44\n",
        "df.loc[643,'F']=44\n",
        "df.loc[787,'F']=44\n",
        "df.loc[852,'F']=44\n",
        "df.loc[1194,'F']=44\n",
        "df.loc[1199,'F']=44\n",
        "df.loc[1281,'F']=44"
      ],
      "metadata": {
        "id": "-tYrZ27mZwyc"
      },
      "execution_count": null,
      "outputs": []
    },
    {
      "cell_type": "code",
      "source": [
        "# 88 바꾸기\n",
        "df.loc[346,'F']=44\n",
        "df.loc[61,'F']=44\n",
        "df.loc[509,'F']=44\n",
        "df.loc[715,'F']=44\n",
        "df.loc[1016,'F']=44\n",
        "df.loc[1311,'F']=44\n",
        "df.loc[1402,'F']=44\n",
        "df.loc[1415,'F']=44"
      ],
      "metadata": {
        "id": "lIk8KffDam4Z"
      },
      "execution_count": null,
      "outputs": []
    },
    {
      "cell_type": "code",
      "source": [
        "# 89 바꾸기\n",
        "\n",
        "df.loc[2,'F']=44\n",
        "df.loc[263,'F']=44\n",
        "df.loc[338,'F']=44\n",
        "df.loc[607,'F']=44\n",
        "df.loc[800,'F']=44\n",
        "df.loc[1417,'F']=44\n",
        "df.loc[1445,'F']=44"
      ],
      "metadata": {
        "id": "uAxn4wyybDd8"
      },
      "execution_count": null,
      "outputs": []
    },
    {
      "cell_type": "code",
      "source": [
        "# 99 바꾸기\n",
        "\n",
        "df.loc[118,'F']=44\n",
        "df.loc[224,'F']=44\n",
        "df.loc[460,'F']=44\n",
        "df.loc[541,'F']=44\n",
        "df.loc[889,'F']=44\n",
        "df.loc[1052,'F']=44\n",
        "df.loc[1097,'F']=44"
      ],
      "metadata": {
        "id": "LMi6a2sPckoQ"
      },
      "execution_count": null,
      "outputs": []
    },
    {
      "cell_type": "code",
      "source": [
        "# 17 바꾸기\n",
        "\n",
        "df.loc[343,'F']=44\n",
        "df.loc[390,'F']=44\n",
        "df.loc[146,'F']=44\n",
        "df.loc[102,'F']=44\n",
        "df.loc[887,'F']=44\n",
        "df.loc[1202,'F']=44\n",
        "df.loc[1212,'F']=44"
      ],
      "metadata": {
        "id": "3qLO5Gp1iRDR"
      },
      "execution_count": null,
      "outputs": []
    },
    {
      "cell_type": "code",
      "source": [
        "# 92 바꾸기   \n",
        "df.loc[171,'F']=44\n",
        "df.loc[181,'F']=44\n",
        "df.loc[308,'F']=44\n",
        "df.loc[548,'F']=44\n",
        "df.loc[694,'F']=44\n",
        "df.loc[1307,'F']=44\n",
        "\n",
        "# 18 바꾸기   \n",
        "df.loc[33,'F']=44\n",
        "df.loc[243,'F']=44\n",
        "df.loc[337,'F']=44\n",
        "df.loc[839,'F']=44\n",
        "df.loc[909,'F']=44\n",
        "df.loc[1392,'F']=44\n",
        "\n",
        "# 12 바꾸기  \n",
        "df.loc[348,'F']=44\n",
        "df.loc[711,'F']=44\n",
        "df.loc[812,'F']=44\n",
        "df.loc[958,'F']=44\n",
        "df.loc[1093,'F']=44\n",
        "df.loc[1333,'F']=44\n",
        "\n",
        "# 19 바꾸기\n",
        "df.loc[22,'F']=44\n",
        "df.loc[69,'F']=44\n",
        "df.loc[290,'F']=44\n",
        "df.loc[360,'F']=44\n",
        "df.loc[580,'F']=44\n",
        "\n",
        "# 98 바꾸기 \n",
        "df.loc[103,'F']=44\n",
        "df.loc[668,'F']=44\n",
        "df.loc[1111,'F']=44\n",
        "df.loc[1233,'F']=44\n",
        "df.loc[147,'F']=44\n",
        "\n",
        "# 11 바꾸기   \n",
        "df.loc[11,'F']=44\n",
        "df.loc[949,'F']=44\n",
        "df.loc[998,'F']=44\n",
        "df.loc[1176,'F']=44\n",
        "\n",
        "# 94 바꾸기\n",
        "df.loc[311,'F']=44\n",
        "df.loc[497,'F']=44\n",
        "df.loc[816,'F']=44\n",
        "df.loc[1290,'F']=44\n",
        "\n",
        "# 15 바꾸기 \n",
        "df.loc[1050,'F']=44\n",
        "df.loc[1123,'F']=44\n",
        "df.loc[1428,'F']=44\n",
        "\n",
        "# 13 바꾸기  \n",
        "df.loc[258,'F']=44\n",
        "df.loc[908,'F']=44\n",
        "\n",
        "# 93 바꾸기    \n",
        "df.loc[130,'F']=44\n",
        "df.loc[638,'F']=44\n",
        "\n",
        "# 8 바꾸기     \n",
        "df.loc[341,'F']=44\n",
        "\n",
        "# 10 바꾸기    \n",
        "df.loc[410,'F']=44\n",
        "\n",
        "# 95 바꾸기   \n",
        "df.loc[438,'F']=44\n",
        "\n",
        "# 7 바꾸기     \n",
        "df.loc[6,'F']=44\n",
        "\n",
        "# 9 바꾸기  \n",
        "df.loc[573,'F']=44"
      ],
      "metadata": {
        "id": "TUmsCW6ii2Db"
      },
      "execution_count": null,
      "outputs": []
    },
    {
      "cell_type": "code",
      "source": [
        "pd.set_option('display.max_rows',15) # 보이는 max row의 값을 15으로 설정"
      ],
      "metadata": {
        "id": "MOdb9Z_MsUm5"
      },
      "execution_count": null,
      "outputs": []
    },
    {
      "cell_type": "code",
      "source": [
        "print(\"평균값:\", train['hour_bef_humidity'].mean()) # 안변했다..?"
      ],
      "metadata": {
        "id": "Ul5bzQV-sedM"
      },
      "execution_count": null,
      "outputs": []
    },
    {
      "cell_type": "code",
      "source": [
        "train['hour_bef_humidity'] = train['hour_bef_humidity'].fillna(52.23129718599863)"
      ],
      "metadata": {
        "id": "Ai5wZOdCWwZa"
      },
      "execution_count": null,
      "outputs": []
    },
    {
      "cell_type": "markdown",
      "metadata": {
        "id": "LojSyqYWxEZF"
      },
      "source": [
        "## 3.데이터 시각화\n",
        ">##### * 시간대별 자전거 이용\n",
        ">##### * 비가 올때의 자전거 이용\n",
        ">##### * 미세먼지 pm10일때의 자전거 이용\n",
        ">##### * 미세먼지가 pm2.5일때의 자전거 이용\n"
      ]
    },
    {
      "cell_type": "code",
      "execution_count": null,
      "metadata": {
        "id": "9yqEWN5mf_RY"
      },
      "outputs": [],
      "source": [
        "# 시간대 별 자전거 이용\n",
        "train.groupby(['hour'])['count'].mean()"
      ]
    },
    {
      "cell_type": "code",
      "execution_count": null,
      "metadata": {
        "id": "12TIX_d1xBnJ"
      },
      "outputs": [],
      "source": [
        "# 시간대 별 자전거 이용 시각화 # import mataplotlib,pyplot as plt\n",
        "train.groupby(['hour'])['count'].mean().plot()"
      ]
    },
    {
      "cell_type": "markdown",
      "metadata": {
        "id": "_ySWEtTZyC1T"
      },
      "source": [
        "##### 다른 분이 하신걸 찾아보니까 그래프에 글자도 넣을 수 있었다. 출근시간과 퇴근시간에 확실히 사용량이 많은 것을 한 눈에 알아 볼 수 있게 한번 글씨도 넣어봤다.\n",
        "\n",
        "##### Q. 어떤 값들을 넣어도 x,y축 구간은 알아서 정해주는건지...?"
      ]
    },
    {
      "cell_type": "code",
      "execution_count": null,
      "metadata": {
        "id": "_q-EhyS6x2kB"
      },
      "outputs": [],
      "source": [
        "train.groupby(['hour'])['count'].mean().plot()\n",
        "plt.axvline(x=8,color='r')\n",
        "plt.axvline(x=18,color='r') # x축 8, 18에 빨간 선 넣어주기\n",
        "plt.text(6, 150, 'go to work')\n",
        "plt.text(16, 150, 'leave work') # (6,150), (16,150) 지점에 각각 출근, 퇴근 글씨 넣어주기\n",
        "\n",
        "# 한글은 문자로 입력되지 않음\n",
        "# 글자를 입력하면 좌표를 시작으로 생기기 때문에 중간에 입력하려면 하나씩 넣어봐야함"
      ]
    },
    {
      "cell_type": "markdown",
      "metadata": {
        "id": "1w68H5im19Id"
      },
      "source": [
        ">###### * groupby() : 데이터를 그룹별로 분할하여 독립된 그룹에 대하여 별도로 데이터를 처리(혹은 적용)하거나 그룹별 통계량을 확인하고자 할 때 유용한 함수이다"
      ]
    },
    {
      "cell_type": "code",
      "execution_count": null,
      "metadata": {
        "id": "MOywFUfxzF_P"
      },
      "outputs": [],
      "source": [
        "# 비가 올 때의 자전거 이용\n",
        "train.groupby(['hour_bef_precipitation'])['count'].mean()"
      ]
    },
    {
      "cell_type": "code",
      "execution_count": null,
      "metadata": {
        "id": "ozzussKT0ZTG"
      },
      "outputs": [],
      "source": [
        "train.groupby(['hour_bef_precipitation'])['count'].mean().plot()"
      ]
    },
    {
      "cell_type": "markdown",
      "metadata": {
        "id": "beMQqLJD4ZLP"
      },
      "source": [
        "##### 해보고 이건 아니다 싶어서 막대 그래프로 비가 오지 않았으면 0, 비가 오면 1에 대한 수치를 시각화 했다.\n",
        "##### 찾아보니 막대 그래프 함수는 Matplotlib에서 bar()함수를 기본적으로 사용한다고 하여 사용했다."
      ]
    },
    {
      "cell_type": "code",
      "execution_count": null,
      "metadata": {
        "id": "8Gdnr0tK2aNL"
      },
      "outputs": [],
      "source": [
        "# train.groupby(['hour_bef_precipitation'])['count'].mean().plt.bar()\n",
        "# 에러났고요.."
      ]
    },
    {
      "cell_type": "code",
      "execution_count": null,
      "metadata": {
        "id": "tX5Mefep4V0i"
      },
      "outputs": [],
      "source": [
        "x = np.arange(2)\n",
        "rain = ['rain', 'no rain'] # rain = 1, no rain = 0\n",
        "count = [' 33.673913', '111.001415']\n",
        "\n",
        "plt.bar(x, count)\n",
        "plt.xticks(x, rain)\n",
        "\n",
        "plt.show()"
      ]
    },
    {
      "cell_type": "markdown",
      "metadata": {
        "id": "o50jTsb16L53"
      },
      "source": [
        ">##### 그래도 비가 오지 않을때 사람들이 따릉이를 훨씬 더 많이 사용한다는 것을 알 수 있다.\n",
        ">##### Q. 비가 올때의 그래프가 아예 보이지 않는데 이거 보이게 하려면 어떻게...?\n"
      ]
    },
    {
      "cell_type": "code",
      "execution_count": null,
      "metadata": {
        "id": "kDFm8x8w53sA"
      },
      "outputs": [],
      "source": [
        "# 미세먼지 pm10일때의 자전거 이용(미세먼지지)\n",
        "pm10 =train.groupby(['hour_bef_pm10'])['count'].mean()\n",
        "print(pm10)"
      ]
    },
    {
      "cell_type": "code",
      "execution_count": null,
      "metadata": {
        "id": "9GT3w2BX76J1"
      },
      "outputs": [],
      "source": [
        "# 미세먼지 pm2.5일때의 자전거 이용(초미세먼지)\n",
        "pm25 =train.groupby(['hour_bef_pm2.5'])['count'].mean()\n",
        "print(pm25)"
      ]
    },
    {
      "cell_type": "code",
      "execution_count": null,
      "metadata": {
        "id": "tNlJWZg_5sjG"
      },
      "outputs": [],
      "source": [
        "# 미세먼지 pm10일때의 자전거 이용 시각화\n",
        "train.groupby(['hour_bef_pm10'])['count'].mean().plot()"
      ]
    },
    {
      "cell_type": "code",
      "execution_count": null,
      "metadata": {
        "id": "I5ErCHB57yNY"
      },
      "outputs": [],
      "source": [
        "# 미세먼지 pm2.5일때의 자전거 이용 시각화화\n",
        "train.groupby(['hour_bef_pm2.5'])['count'].mean().plot()"
      ]
    },
    {
      "cell_type": "code",
      "execution_count": null,
      "metadata": {
        "id": "n8So3LvHh7UG"
      },
      "outputs": [],
      "source": [
        "pm25.mean()"
      ]
    },
    {
      "cell_type": "code",
      "execution_count": null,
      "metadata": {
        "id": "B3RYfTR5jK_q"
      },
      "outputs": [],
      "source": [
        "pm10.mean()"
      ]
    },
    {
      "cell_type": "markdown",
      "metadata": {
        "id": "jazV7q3EJE8U"
      },
      "source": [
        "두개의 그래프를 놓고 봤을때는 y 축의 단위가 달라 잘 몰랐지만, 두개의 평균을 비교해보니 유의미한 차이는 없는것같다. 사람들이 미세먼지, 초미세 먼지 농도에 따라 상관없이 거의 동일하게 따릉이를 이용한 것같다."
      ]
    },
    {
      "cell_type": "code",
      "execution_count": null,
      "metadata": {
        "id": "5GUFPgi1NkvT"
      },
      "outputs": [],
      "source": [
        "import matplotlib.pyplot as plt\n",
        "import numpy as np"
      ]
    },
    {
      "cell_type": "code",
      "execution_count": null,
      "metadata": {
        "id": "4vGim-SdGaW1"
      },
      "outputs": [],
      "source": [
        "pm=['pm2.5', 'pm10']\n",
        "#df = pd.DataFrame[{'hour_bef_pm2.5' : pm25, 'hour_bef_pm10':pm10}, index= pm]\n",
        "\n",
        "# 바 굵기 조정\n",
        "#bar_width = 0.25\n",
        "\n",
        "# 미세먼지가 pm2.5일때, pm10일때 2가지 경우\n",
        "#index=np.arange(2)\n",
        "\n",
        "#pm1 = plt.bar(index, train['hour_bef_pm2.5'], bar_width, alpha=0.4, color='blue', label='pm2.5') #미세먼지가 pm2.5일때\n",
        "#pm2 = plt.bar(index, train['hour_bef_pm10'], bar_width, alpha=0.4, color='red', label='pm10') #미세먼지가 pm10일때\n",
        "\n",
        "# x축, y축 이름 및 범례 설정\n",
        "#plt.xlabel('pm_concentration', size = 13)\n",
        "#plt.ylabel('count', size = 13)\n",
        "#plt.legend()\n",
        "#plt.show()\n",
        "\n",
        "# 결측치 때문일 수도 있다, 평균으로 null 처리 해보기기"
      ]
    },
    {
      "cell_type": "code",
      "source": [
        "# 습도랑 따릉이 횟수와의 관계\n",
        "\n",
        "train.groupby(['hour_bef_humidity'])['count'].mean().plot()"
      ],
      "metadata": {
        "id": "In9l_4r2sqgp"
      },
      "execution_count": null,
      "outputs": []
    },
    {
      "cell_type": "markdown",
      "metadata": {
        "id": "2XfElXSwgvC9"
      },
      "source": [
        "## 시각화 결론\n",
        ">##### 따릉이는 사람들이 출근하고 퇴근 하는 시간인 7시와 17시 에 가장 많이 사용 되었으며, 비가 오지 않을 때는 비가 올때보다 3배 이상의 따릉이가 사용 됨을 알 수 있다. 또한, 미세먼지와 초미세먼지 농도는 사람들이 따릉이를 이용하는데 유의미한 차이를 주지 못했다."
      ]
    },
    {
      "cell_type": "markdown",
      "metadata": {
        "id": "DEPN4I3x6Fwt"
      },
      "source": [
        "## 4. 변수 선택 및 모델 구축"
      ]
    },
    {
      "cell_type": "code",
      "source": [
        "from sklearn.linear_model import LinearRegression\n",
        "from sklearn.linear_model import LogisticRegression\n",
        "from sklearn.svm import SVC, LinearSVC\n",
        "from sklearn.ensemble import RandomForestClassifier\n",
        "from sklearn.neighbors import KNeighborsClassifier\n",
        "from sklearn.naive_bayes import GaussianNB\n",
        "from sklearn.linear_model import Perceptron\n",
        "from sklearn.linear_model import SGDClassifier\n",
        "from sklearn.tree import DecisionTreeClassifier\n",
        "\n",
        "import math\n",
        "from sklearn import metrics\n",
        "from sklearn.model_selection import train_test_split"
      ],
      "metadata": {
        "id": "c4T7cppV6RKc"
      },
      "execution_count": null,
      "outputs": []
    },
    {
      "cell_type": "code",
      "source": [
        "# 필요 없는 변수 잘라주기\n",
        "df2 = train.drop(['id','hour_bef_visibility','hour_bef_ozone','hour_bef_pm10','hour_bef_pm2.5'],inplace= True, axis=1)"
      ],
      "metadata": {
        "id": "Su6pgtqQbcAd"
      },
      "execution_count": null,
      "outputs": []
    },
    {
      "cell_type": "code",
      "source": [
        "# 잘 잘렸나 확인하기\n",
        "train.columns"
      ],
      "metadata": {
        "id": "DN75M1L22TcX"
      },
      "execution_count": null,
      "outputs": []
    },
    {
      "cell_type": "markdown",
      "metadata": {
        "id": "RWqA5V-j6izS"
      },
      "source": [
        "* KNN모형"
      ]
    },
    {
      "cell_type": "code",
      "execution_count": null,
      "metadata": {
        "id": "NAW2vMVm6IN0"
      },
      "outputs": [],
      "source": [
        "from sklearn.tree import DecisionTreeRegressor\n",
        "from sklearn.ensemble import RandomForestRegressor\n",
        "import lightgbm as lgb\n",
        "import xgboost as xgb\n",
        "from sklearn.neighbors import KNeighborsRegressor"
      ]
    },
    {
      "cell_type": "code",
      "source": [
        "#model_dict = {'DT':DecisionTreeRegressor(),\n",
        "#             'RF':RandomForestRegressor(),\n",
        "#             'LGB':lgb.LGBMRegressor(),\n",
        "#             'XGB':xgb.XGBRegressor(),\n",
        "#            'KNN':KNeighborsRegressor()}"
      ],
      "metadata": {
        "id": "jhB_-HwBFF4Q"
      },
      "execution_count": null,
      "outputs": []
    },
    {
      "cell_type": "code",
      "execution_count": null,
      "metadata": {
        "id": "acsWJRBp74PR"
      },
      "outputs": [],
      "source": [
        "#def min_max_normalize(list):\n",
        "#\n",
        "#    normalized = []\n",
        "#\n",
        "#    for value in list:\n",
        "#      normalized_num = (value - min(lst)) / (max(lst) - min(lst))\n",
        "#      normalized.append(normalized_num)\n",
        "#\n",
        "#    return normalized"
      ]
    },
    {
      "cell_type": "code",
      "source": [
        "#from sklearn.model_selection import KFold"
      ],
      "metadata": {
        "id": "YH080MxHFLE5"
      },
      "execution_count": null,
      "outputs": []
    },
    {
      "cell_type": "code",
      "source": [
        "#k_fold = KFold(n_splits=5, shuffle= True, random_state=10)"
      ],
      "metadata": {
        "id": "9BXwXCSuFPRo"
      },
      "execution_count": null,
      "outputs": []
    },
    {
      "cell_type": "code",
      "source": [
        "#from sklearn.model_selection import cross_val_score"
      ],
      "metadata": {
        "id": "7bWMPmwPFSTE"
      },
      "execution_count": null,
      "outputs": []
    },
    {
      "cell_type": "code",
      "source": [
        "#score = {}\n",
        "#\n",
        "#for model_name in model_dict.keys():\n",
        "#    \n",
        "#    model = model_dict[model_name]\n",
        "#    \n",
        "#    score[model_name] = np.mean(cross_val_score(model, train, train, scoring = 'neg_mean_squared_error', n_jobs = -1, cv = k_fold))\n",
        "#   \n",
        "#    print(f'{model_name} 평가 완료')"
      ],
      "metadata": {
        "id": "5ub0geMoFVXe"
      },
      "execution_count": null,
      "outputs": []
    },
    {
      "cell_type": "code",
      "source": [
        "#pd.Series(score).plot(kind = 'bar') # 다른분거 따라해봤는데... 왜 되는걸까요?"
      ],
      "metadata": {
        "id": "fFFJioeeFZ0g"
      },
      "execution_count": null,
      "outputs": []
    },
    {
      "cell_type": "markdown",
      "source": [
        "분명 막 점수가 줄줄 나와서 거기서 한 2,3등짜리 선택한것같은데 왜....안나올까요?!?!?!"
      ],
      "metadata": {
        "id": "JTpX8G5diBOF"
      }
    },
    {
      "cell_type": "markdown",
      "source": [
        "##구글링 해서 찾아본 방법"
      ],
      "metadata": {
        "id": "HoRjT5-353M9"
      }
    },
    {
      "cell_type": "code",
      "source": [
        "col_names = ['hour_bef_temperature', 'hour_bef_precipitation', 'hour_bef_windspeed', 'hour_bef_humidity', 'count']\n",
        "dataset = pd.read_csv('/content/drive/MyDrive/All-in/train.csv', encoding='UTF-8')\n",
        "\n",
        "print(dataset.info())"
      ],
      "metadata": {
        "id": "xDwIJ646hYfR"
      },
      "execution_count": null,
      "outputs": []
    },
    {
      "cell_type": "code",
      "source": [
        "print(dataset.iloc[0:5]) # dataset.head()\n",
        "print(dataset.iloc[-5:]) # dataset.tail()"
      ],
      "metadata": {
        "id": "EdSJRobC3mFJ"
      },
      "execution_count": null,
      "outputs": []
    },
    {
      "cell_type": "code",
      "source": [
        "X = dataset.iloc[:,:-1].to_numpy()\n",
        "\n",
        "y = dataset.iloc[:,4].to_numpy()"
      ],
      "metadata": {
        "id": "gqgoMbOozWD8"
      },
      "execution_count": null,
      "outputs": []
    },
    {
      "cell_type": "code",
      "source": [
        "from sklearn.model_selection import train_test_split\n",
        "\n",
        "X_train, X_test, y_train, y_test = train_test_split(X, y, test_size = 0.2)\n",
        "print(len(X_train), len(X_test))"
      ],
      "metadata": {
        "id": "_mk2udLK07OV"
      },
      "execution_count": null,
      "outputs": []
    },
    {
      "cell_type": "code",
      "source": [
        "print(X_train[:3])\n",
        "print(y_train[:3])"
      ],
      "metadata": {
        "id": "eNNmcLiF3Wzi"
      },
      "execution_count": null,
      "outputs": []
    },
    {
      "cell_type": "code",
      "source": [
        "from sklearn.preprocessing import StandardScaler\n",
        "\n",
        "scaler = StandardScaler() # Scaler 객체 생성\n",
        "scaler.fit(X_train) # 스케일링(표준화)를 위한 평균과 표준 편차 계산\n",
        "X_train = scaler.transform(X_train) # 스케일링(표준화 수행)\n",
        "X_test = scaler.transform(X_test)"
      ],
      "metadata": {
        "id": "kBrsyaEh1Vzc"
      },
      "execution_count": null,
      "outputs": []
    },
    {
      "cell_type": "markdown",
      "source": [
        "밑의 코드에서 평균과 표준편차가 nan이 나와서 쭉 에러가 나는 것 같은데 이건 어떻게 없앨까요?"
      ],
      "metadata": {
        "id": "TtPXaqpv57WG"
      }
    },
    {
      "cell_type": "code",
      "source": [
        "for col in range(4):\n",
        "    print(f'평균 = {X_train[:, col].mean()}, 표준편차= {X_train[:, col].std()}')"
      ],
      "metadata": {
        "id": "RKGb7onM3IX4"
      },
      "execution_count": null,
      "outputs": []
    },
    {
      "cell_type": "code",
      "source": [
        "print(f'평균 = {X_train[:, 2].mean()}, 표준편차= {X_train[:, 2].std()}')"
      ],
      "metadata": {
        "id": "Br2fTSHVt0_7"
      },
      "execution_count": null,
      "outputs": []
    },
    {
      "cell_type": "code",
      "source": [
        "print(f'평균 = {X_train[:, 3].mean()}, 표준편차= {X_train[:, 3].std()}')"
      ],
      "metadata": {
        "id": "2Ez3sNzut6cx"
      },
      "execution_count": null,
      "outputs": []
    },
    {
      "cell_type": "code",
      "source": [
        "train.isnull().sum()"
      ],
      "metadata": {
        "id": "Evg6_UTv39wD"
      },
      "execution_count": null,
      "outputs": []
    },
    {
      "cell_type": "code",
      "source": [
        "for col in range(4):\n",
        "    print(f'평균 = {X_test[:, col].mean()}, 표준편차= {X_test[:, col].std()}')"
      ],
      "metadata": {
        "id": "yw95NBnX3x7n"
      },
      "execution_count": null,
      "outputs": []
    },
    {
      "cell_type": "code",
      "source": [
        "# 학습/예측\n",
        "#from sklearn.neighbors import KNeighborsClassifier\n",
        "#\n",
        "#classifier = KNeighborsClassifier(n_neighbors=5)\n",
        "#classifier.fit(X_train, y_train)"
      ],
      "metadata": {
        "id": "ll-s5af44Frc"
      },
      "execution_count": null,
      "outputs": []
    },
    {
      "cell_type": "code",
      "source": [
        "#y_pred= classifier.predict(X_test)\n",
        "#print(y_pred)"
      ],
      "metadata": {
        "id": "gLx9pn8D4IS8"
      },
      "execution_count": null,
      "outputs": []
    },
    {
      "cell_type": "code",
      "source": [
        "#  모델 평가\n",
        "\n",
        "#from sklearn.metrics import confusion_matrix\n",
        "#conf_matrix= confusion_matrix(y_test, y_pred)\n",
        "#print(conf_matrix)"
      ],
      "metadata": {
        "id": "rSBeLYX44NpD"
      },
      "execution_count": null,
      "outputs": []
    },
    {
      "cell_type": "code",
      "source": [
        "#from sklearn.metrics import classification_report\n",
        "#report = classification_report(y_test, y_pred)\n",
        "#print(report)"
      ],
      "metadata": {
        "id": "-rzzB5C84Ox4"
      },
      "execution_count": null,
      "outputs": []
    },
    {
      "cell_type": "code",
      "source": [
        "# 모델 개선 - k값을 변화시킬 때, 에러가 줄어드는 지\n",
        "#import numpy as np\n",
        "#    \n",
        "#for i in range(1, 31):\n",
        "#    knn = KNeighborsClassifier(n_neighbors = i)\n",
        "#    knn.fit(X_train, y_train)\n",
        "#    pred_i = knn.predict(X_test)\n",
        "#    errors.append(np.mean(pred_i != y_test))\n",
        "#print(errors)"
      ],
      "metadata": {
        "id": "oGoKAmJE4ekW"
      },
      "execution_count": null,
      "outputs": []
    },
    {
      "cell_type": "markdown",
      "source": [
        "다른 방법"
      ],
      "metadata": {
        "id": "8Bdj_sI66fvj"
      }
    },
    {
      "cell_type": "code",
      "source": [
        "test.info()"
      ],
      "metadata": {
        "id": "S46HjckHxJZj"
      },
      "execution_count": null,
      "outputs": []
    },
    {
      "cell_type": "code",
      "source": [
        "test.isnull().sum()"
      ],
      "metadata": {
        "id": "dlAnCq5YxSBL"
      },
      "execution_count": null,
      "outputs": []
    },
    {
      "cell_type": "code",
      "source": [
        "test['hour_bef_temperature']=test['hour_bef_temperature'].fillna(test['hour_bef_temperature'].mean())\n",
        "test['hour_bef_precipitation']=test['hour_bef_precipitation'].fillna(0)\n",
        "test['hour_bef_windspeed']=test['hour_bef_windspeed'].fillna(2.4)\n",
        "test['hour_bef_humidity']=test['hour_bef_humidity'].fillna(52)\n",
        "test['hour_bef_visibility']=test['hour_bef_visibility'].fillna(2000)\n",
        "test['hour_bef_ozone']=test['hour_bef_ozone'].fillna(0.0411)\n",
        "test['hour_bef_pm10']=test['hour_bef_pm10'].fillna(test['hour_bef_pm10'].mean())\n",
        "test['hour_bef_pm2.5']=test['hour_bef_pm2.5'].fillna(test['hour_bef_pm2.5'].mean())"
      ],
      "metadata": {
        "id": "wEW_j7qkxe_X"
      },
      "execution_count": null,
      "outputs": []
    },
    {
      "cell_type": "code",
      "source": [
        "test.isnull().sum()"
      ],
      "metadata": {
        "id": "gRTm8VMmxggB"
      },
      "execution_count": null,
      "outputs": []
    },
    {
      "cell_type": "code",
      "source": [
        "train.isnull().sum()"
      ],
      "metadata": {
        "id": "6gyxY9_Kxp5C"
      },
      "execution_count": null,
      "outputs": []
    },
    {
      "cell_type": "code",
      "source": [
        "X_train, X_test, y_train, y_test = train_test_split(X, y, test_size=0.2, shuffle=True, random_state=42)\n",
        "print('X_train shape:', X_train.shape)\n",
        "print('X_valid shape:', X_test.shape)\n",
        "print('y_train shape:', y_train.shape)\n",
        "print('y_valid shape:', y_test.shape)"
      ],
      "metadata": {
        "id": "xjqFF2t46gy4"
      },
      "execution_count": null,
      "outputs": []
    },
    {
      "cell_type": "code",
      "source": [
        "knn = KNeighborsClassifier(n_neighbors = 3)\n",
        "knn.fit(X_train, y_train)\n",
        "y_hat = knn.predict(X_test)\n",
        "\n",
        "mean_squared_error = metrics.mean_squared_error(y_hat, y_test)\n",
        "knn_rmse = math.sqrt(mean_squared_error)\n",
        "print(\"Root Mean Squared Error (on training data): %0.3f\" % knn_rmse)"
      ],
      "metadata": {
        "id": "Rx5G2ZLu6kNO"
      },
      "execution_count": null,
      "outputs": []
    },
    {
      "cell_type": "code",
      "source": [
        "knn = KNeighborsClassifier(n_neighbors = 3)\n",
        "knn.fit(X_train, y_train)\n",
        "y_pred = knn.predict(X_test)\n",
        "acc_knn = round(knn.score(X_train, y_train) * 100, 2)\n",
        "print(acc_knn)"
      ],
      "metadata": {
        "id": "rtpPUWVMwdya"
      },
      "execution_count": null,
      "outputs": []
    },
    {
      "cell_type": "markdown",
      "source": [
        "* 로지스틱 회귀 분석"
      ],
      "metadata": {
        "id": "Rl5fZfJ6EuKc"
      }
    },
    {
      "cell_type": "code",
      "source": [],
      "metadata": {
        "id": "JK2wum8ZFOMR"
      },
      "execution_count": null,
      "outputs": []
    },
    {
      "cell_type": "markdown",
      "source": [
        "* Support Vector Machines"
      ],
      "metadata": {
        "id": "lGD4C2OjFRUL"
      }
    },
    {
      "cell_type": "code",
      "source": [
        "svc = SVC()\n",
        "svc.fit(X_train, y_train)\n",
        "y_pred = svc.predict(X_test)\n",
        "acc_svc = round(svc.score(X_train, y_train) * 100, 2)\n",
        "print(acc_svc)"
      ],
      "metadata": {
        "id": "mYrGbQfk7BF6"
      },
      "execution_count": null,
      "outputs": []
    },
    {
      "cell_type": "markdown",
      "source": [
        "* perception"
      ],
      "metadata": {
        "id": "UBnXEJQwruBO"
      }
    },
    {
      "cell_type": "code",
      "source": [
        "perceptron = Perceptron()\n",
        "perceptron.fit(X_train, y_train)\n",
        "y_pred = perceptron.predict(X_test)\n",
        "acc_perceptron = round(perceptron.score(X_train, y_train) * 100, 2)\n",
        "print(acc_perceptron)"
      ],
      "metadata": {
        "id": "p8jNruMsrtYb"
      },
      "execution_count": null,
      "outputs": []
    },
    {
      "cell_type": "markdown",
      "source": [
        "* 결정트리"
      ],
      "metadata": {
        "id": "OUDFHmoVr52p"
      }
    },
    {
      "cell_type": "code",
      "source": [
        "decision_tree = DecisionTreeClassifier()\n",
        "decision_tree.fit(X_train, y_train)\n",
        "y_pred = decision_tree.predict(X_test)\n",
        "acc_decision_tree = round(decision_tree.score(X_train, y_train) * 100, 2)\n",
        "print(acc_decision_tree)"
      ],
      "metadata": {
        "id": "CCh2O0EVr8Ig"
      },
      "execution_count": null,
      "outputs": []
    },
    {
      "cell_type": "markdown",
      "source": [
        "* liner Regression"
      ],
      "metadata": {
        "id": "QCc5U-jRsPBe"
      }
    },
    {
      "cell_type": "markdown",
      "source": [
        "## 5.모델 테스트"
      ],
      "metadata": {
        "id": "6atde25i9AWd"
      }
    },
    {
      "cell_type": "code",
      "source": [
        "test.head()"
      ],
      "metadata": {
        "id": "eJXYblVz9AJ9"
      },
      "execution_count": null,
      "outputs": []
    },
    {
      "cell_type": "code",
      "source": [
        "test.isnull().sum()"
      ],
      "metadata": {
        "id": "9pfQWzk-9ZDZ"
      },
      "execution_count": null,
      "outputs": []
    },
    {
      "cell_type": "code",
      "source": [
        "test['hour_bef_visibility'].mode()"
      ],
      "metadata": {
        "id": "0ZV0n5_W_pGl"
      },
      "execution_count": null,
      "outputs": []
    },
    {
      "cell_type": "code",
      "source": [
        "test['hour_bef_visibility'].mean()"
      ],
      "metadata": {
        "id": "eMlKpTElAfV8"
      },
      "execution_count": null,
      "outputs": []
    },
    {
      "cell_type": "code",
      "source": [
        "v= test['hour_bef_visibility'].value_counts()\n",
        "print(v)"
      ],
      "metadata": {
        "id": "Jrh5Rbr5AUjE"
      },
      "execution_count": null,
      "outputs": []
    },
    {
      "cell_type": "code",
      "source": [
        "test['hour_bef_ozone'].mode()"
      ],
      "metadata": {
        "id": "E7-kKJ7YAqKa"
      },
      "execution_count": null,
      "outputs": []
    },
    {
      "cell_type": "code",
      "source": [
        "test['hour_bef_ozone'].mean()"
      ],
      "metadata": {
        "id": "yyu98xekAtaG"
      },
      "execution_count": null,
      "outputs": []
    },
    {
      "cell_type": "code",
      "source": [
        "o= test['hour_bef_ozone'].value_counts()\n",
        "print(o)"
      ],
      "metadata": {
        "id": "0fEGL4ZIA0sj"
      },
      "execution_count": null,
      "outputs": []
    },
    {
      "cell_type": "code",
      "source": [
        "test['hour_bef_temperature']=test['hour_bef_temperature'].fillna(test['hour_bef_temperature'].mean())\n",
        "test['hour_bef_precipitation']=test['hour_bef_precipitation'].fillna(0)\n",
        "test['hour_bef_windspeed']=test['hour_bef_windspeed'].fillna(test['hour_bef_windspeed'].mode())\n",
        "test['hour_bef_humidity']=test['hour_bef_humidity'].fillna(52)\n",
        "test['hour_bef_visibility']=test['hour_bef_visibility'].fillna(2000)\n",
        "test['hour_bef_ozone']=test['hour_bef_ozone'].fillna(0.0411)\n",
        "test['hour_bef_pm10']=test['hour_bef_pm10'].fillna(test['hour_bef_pm10'].mean())\n",
        "test['hour_bef_pm2.5']=test['hour_bef_pm2.5'].fillna(test['hour_bef_pm2.5'].mean())"
      ],
      "metadata": {
        "id": "2b18dDy59cqp"
      },
      "execution_count": null,
      "outputs": []
    },
    {
      "cell_type": "code",
      "source": [
        "test.isnull().sum()"
      ],
      "metadata": {
        "id": "FfR992FFA9fz"
      },
      "execution_count": null,
      "outputs": []
    },
    {
      "cell_type": "code",
      "source": [
        "test['hour_bef_windspeed'].mode()"
      ],
      "metadata": {
        "id": "iBEvvBBZBLqA"
      },
      "execution_count": null,
      "outputs": []
    },
    {
      "cell_type": "code",
      "source": [
        "test['hour_bef_temperature']=test['hour_bef_temperature'].fillna(test['hour_bef_temperature'].mean())\n",
        "test['hour_bef_precipitation']=test['hour_bef_precipitation'].fillna(0)\n",
        "test['hour_bef_windspeed']=test['hour_bef_windspeed'].fillna(2.4)\n",
        "test['hour_bef_humidity']=test['hour_bef_humidity'].fillna(52)\n",
        "test['hour_bef_visibility']=test['hour_bef_visibility'].fillna(2000)\n",
        "test['hour_bef_ozone']=test['hour_bef_ozone'].fillna(0.0411)\n",
        "test['hour_bef_pm10']=test['hour_bef_pm10'].fillna(test['hour_bef_pm10'].mean())\n",
        "test['hour_bef_pm2.5']=test['hour_bef_pm2.5'].fillna(test['hour_bef_pm2.5'].mean())"
      ],
      "metadata": {
        "id": "VT7n2F0QBEbc"
      },
      "execution_count": null,
      "outputs": []
    },
    {
      "cell_type": "code",
      "source": [
        "test.isnull().sum()"
      ],
      "metadata": {
        "id": "TXrnsyAcBZqI"
      },
      "execution_count": null,
      "outputs": []
    },
    {
      "cell_type": "code",
      "source": [
        "model = \n",
        "model.fit(X, y)\n",
        "Y_pred = model.predict(test)"
      ],
      "metadata": {
        "id": "h1GBqUX3Bav-"
      },
      "execution_count": null,
      "outputs": []
    },
    {
      "cell_type": "code",
      "source": [
        "Y_pred"
      ],
      "metadata": {
        "id": "WgNZNex7EMVt"
      },
      "execution_count": null,
      "outputs": []
    }
  ],
  "metadata": {
    "colab": {
      "provenance": [],
      "private_outputs": true,
      "authorship_tag": "ABX9TyNsoLwuoMC6r4R+j/NSOCgm",
      "include_colab_link": true
    },
    "kernelspec": {
      "display_name": "Python 3",
      "name": "python3"
    },
    "language_info": {
      "name": "python"
    },
    "accelerator": "GPU",
    "gpuClass": "standard"
  },
  "nbformat": 4,
  "nbformat_minor": 0
}